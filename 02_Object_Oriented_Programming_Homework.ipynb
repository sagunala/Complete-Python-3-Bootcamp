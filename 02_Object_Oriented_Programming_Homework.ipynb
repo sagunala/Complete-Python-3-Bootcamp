{
  "nbformat": 4,
  "nbformat_minor": 0,
  "metadata": {
    "kernelspec": {
      "display_name": "Python 3",
      "language": "python",
      "name": "python3"
    },
    "language_info": {
      "codemirror_mode": {
        "name": "ipython",
        "version": 3
      },
      "file_extension": ".py",
      "mimetype": "text/x-python",
      "name": "python",
      "nbconvert_exporter": "python",
      "pygments_lexer": "ipython3",
      "version": "3.6.2"
    },
    "colab": {
      "name": "02-Object Oriented Programming Homework.ipynb",
      "provenance": [],
      "include_colab_link": true
    }
  },
  "cells": [
    {
      "cell_type": "markdown",
      "metadata": {
        "id": "view-in-github",
        "colab_type": "text"
      },
      "source": [
        "<a href=\"https://colab.research.google.com/github/sagunala/Complete-Python-3-Bootcamp/blob/master/02_Object_Oriented_Programming_Homework.ipynb\" target=\"_parent\"><img src=\"https://colab.research.google.com/assets/colab-badge.svg\" alt=\"Open In Colab\"/></a>"
      ]
    },
    {
      "cell_type": "markdown",
      "metadata": {
        "id": "NbQX8Ae3SDPQ",
        "colab_type": "text"
      },
      "source": [
        "# Object Oriented Programming\n",
        "## Homework Assignment\n",
        "\n",
        "#### Problem 1\n",
        "Fill in the Line class methods to accept coordinates as a pair of tuples and return the slope and distance of the line."
      ]
    },
    {
      "cell_type": "code",
      "metadata": {
        "id": "wO_kuM4tSDPS",
        "colab_type": "code",
        "colab": {}
      },
      "source": [
        "class Line:\n",
        "    \n",
        "    def __init__(self,coor1,coor2):\n",
        "        self.coor1=coor1\n",
        "        self.coor2=coor2\n",
        "        \n",
        "    def distance(self):\n",
        "        x1,y1=self.coor1\n",
        "        x2,y2=self.coor2\n",
        "        return ((x2-x1)**2+(y2-y1)**2)**0.5\n",
        "    \n",
        "    def slope(self):\n",
        "        x1,y1=self.coor1\n",
        "        x2,y2=self.coor2\n",
        "        return (y2 - y1)/(x2 - x1)"
      ],
      "execution_count": 0,
      "outputs": []
    },
    {
      "cell_type": "code",
      "metadata": {
        "id": "agGhGi-tSDPY",
        "colab_type": "code",
        "colab": {}
      },
      "source": [
        "# EXAMPLE OUTPUT\n",
        "\n",
        "coordinate1 = (3,2)\n",
        "coordinate2 = (8,10)\n",
        "\n",
        "li = Line(coordinate1,coordinate2)"
      ],
      "execution_count": 0,
      "outputs": []
    },
    {
      "cell_type": "code",
      "metadata": {
        "id": "g4pGpia6SDPe",
        "colab_type": "code",
        "colab": {
          "base_uri": "https://localhost:8080/",
          "height": 34
        },
        "outputId": "a491a639-ab3a-44c2-ae38-0e04a3517817"
      },
      "source": [
        "li.distance()"
      ],
      "execution_count": 3,
      "outputs": [
        {
          "output_type": "execute_result",
          "data": {
            "text/plain": [
              "9.433981132056603"
            ]
          },
          "metadata": {
            "tags": []
          },
          "execution_count": 3
        }
      ]
    },
    {
      "cell_type": "code",
      "metadata": {
        "id": "SMF0wXYXSDPj",
        "colab_type": "code",
        "colab": {
          "base_uri": "https://localhost:8080/",
          "height": 34
        },
        "outputId": "524a123e-d890-43aa-9437-58ddfb045861"
      },
      "source": [
        "li.slope()"
      ],
      "execution_count": 4,
      "outputs": [
        {
          "output_type": "execute_result",
          "data": {
            "text/plain": [
              "1.6"
            ]
          },
          "metadata": {
            "tags": []
          },
          "execution_count": 4
        }
      ]
    },
    {
      "cell_type": "markdown",
      "metadata": {
        "id": "TBNVtXlrSDPq",
        "colab_type": "text"
      },
      "source": [
        "________\n",
        "#### Problem 2"
      ]
    },
    {
      "cell_type": "markdown",
      "metadata": {
        "id": "A14AbAwxSDPr",
        "colab_type": "text"
      },
      "source": [
        "Fill in the class "
      ]
    },
    {
      "cell_type": "code",
      "metadata": {
        "id": "g7Is_KdzSDPs",
        "colab_type": "code",
        "colab": {}
      },
      "source": [
        "class Cylinder:\n",
        "    pi = 3.14\n",
        "    def __init__(self,height=1,radius=1):\n",
        "        self.height= height\n",
        "        self.radius= radius\n",
        "        \n",
        "    def volume(self):\n",
        "        return Cylinder.pi * (self.radius **2) * self.height\n",
        "    \n",
        "    def surface_area(self):\n",
        "        return 2*Cylinder.pi*(self.radius*self.height + self.radius **2)"
      ],
      "execution_count": 0,
      "outputs": []
    },
    {
      "cell_type": "code",
      "metadata": {
        "id": "GIBGeqXSSDPx",
        "colab_type": "code",
        "colab": {}
      },
      "source": [
        "# EXAMPLE OUTPUT\n",
        "c = Cylinder(2,3)"
      ],
      "execution_count": 0,
      "outputs": []
    },
    {
      "cell_type": "code",
      "metadata": {
        "id": "TSCXSVw6SDP1",
        "colab_type": "code",
        "colab": {
          "base_uri": "https://localhost:8080/",
          "height": 34
        },
        "outputId": "a12c19e2-af4a-40d4-ed98-adbdc890e656"
      },
      "source": [
        "c.volume()"
      ],
      "execution_count": 12,
      "outputs": [
        {
          "output_type": "execute_result",
          "data": {
            "text/plain": [
              "56.52"
            ]
          },
          "metadata": {
            "tags": []
          },
          "execution_count": 12
        }
      ]
    },
    {
      "cell_type": "code",
      "metadata": {
        "id": "gwd-svdoSDP9",
        "colab_type": "code",
        "colab": {
          "base_uri": "https://localhost:8080/",
          "height": 34
        },
        "outputId": "b4547a39-d1a5-444d-c604-0da2beb0ca12"
      },
      "source": [
        "c.surface_area()"
      ],
      "execution_count": 13,
      "outputs": [
        {
          "output_type": "execute_result",
          "data": {
            "text/plain": [
              "94.2"
            ]
          },
          "metadata": {
            "tags": []
          },
          "execution_count": 13
        }
      ]
    }
  ]
}